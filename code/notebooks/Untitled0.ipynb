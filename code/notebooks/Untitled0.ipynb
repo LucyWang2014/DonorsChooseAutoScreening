{
 "metadata": {
  "name": "",
  "signature": "sha256:afc25ebfed35ce86b4674aab99183376f5992c0cdeb02d2e61bb0552891bd68a"
 },
 "nbformat": 3,
 "nbformat_minor": 0,
 "worksheets": [
  {
   "cells": [
    {
     "cell_type": "code",
     "collapsed": false,
     "input": [
      "import pandas as pd\n",
      "\n",
      "clean_data = '../data/essay_data_clean.csv'\n",
      "    \n",
      "df=pd.read_csv(clean_data,sep=',', header=0)\n",
      "print df.got_posted.value_counts()"
     ],
     "language": "python",
     "metadata": {},
     "outputs": [
      {
       "output_type": "stream",
       "stream": "stdout",
       "text": [
        "0    220470\n",
        "1     22047\n",
        "dtype: int64\n"
       ]
      }
     ],
     "prompt_number": 4
    },
    {
     "cell_type": "code",
     "collapsed": false,
     "input": [
      "freqs = {'t':0, 'f':0, 1:0, 0:0}\n",
      "def quickSummary(chunk):\n",
      "    for i, key_i in enumerate(chunk.got_posted.value_counts().keys()):\n",
      "        if i<10:\n",
      "            freqs[key_i] = freqs[key_i] + chunk.got_posted.value_counts()[key_i]\n",
      "    print freqs\n",
      "    return freqs\n",
      "\n",
      "quickSummary(df)"
     ],
     "language": "python",
     "metadata": {},
     "outputs": [
      {
       "output_type": "stream",
       "stream": "stdout",
       "text": [
        "{0: 220470, 1: 22047, 't': 0, 'f': 0}\n"
       ]
      },
      {
       "metadata": {},
       "output_type": "pyout",
       "prompt_number": 20,
       "text": [
        "{0: 220470, 1: 22047, 'f': 0, 't': 0}"
       ]
      }
     ],
     "prompt_number": 20
    }
   ],
   "metadata": {}
  }
 ]
}