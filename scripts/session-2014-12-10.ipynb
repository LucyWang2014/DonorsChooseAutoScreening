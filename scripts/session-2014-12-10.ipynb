{
 "metadata": {
  "name": "",
  "signature": "sha256:0dd91f2765f5ddf5022cb943f33e3dd55054d48b5dfd4b901d044bbfb951ca0c"
 },
 "nbformat": 3,
 "nbformat_minor": 0,
 "worksheets": [
  {
   "cells": [
    {
     "cell_type": "code",
     "collapsed": false,
     "input": [
      "import pandas as pd\n",
      "import numpy as np\n",
      "import scipy\n",
      "from sklearn.linear_model import LogisticRegression\n",
      "from sklearn import svm\n",
      "from sklearn.cross_validation import train_test_split\n",
      "from sklearn.metrics import roc_curve, auc\n",
      "\n",
      "from cleanResultantMerge import *\n",
      "from DataSets import *\n",
      "from FeatureGeneration import *\n",
      "\n",
      "rawdf = pickleLoad(\"BalancedFull\")"
     ],
     "language": "python",
     "metadata": {},
     "outputs": [],
     "prompt_number": 2
    },
    {
     "cell_type": "code",
     "collapsed": false,
     "input": [
      "#record missing essay fields (very important)\n",
      "df = missingFieldIndicator(rawdf)\n",
      "headers, essay_features = getEssayFeatures(df)\n",
      "essayDf = pd.DataFrame(essay_features, columns=headers)\n",
      "df = pd.concat([df,essayDf],axis=1)"
     ],
     "language": "python",
     "metadata": {},
     "outputs": [],
     "prompt_number": 3
    },
    {
     "cell_type": "code",
     "collapsed": false,
     "input": [
      "getSummary(df)"
     ],
     "language": "python",
     "metadata": {},
     "outputs": [
      {
       "ename": "TypeError",
       "evalue": "getSummary() takes exactly 2 arguments (1 given)",
       "output_type": "pyerr",
       "traceback": [
        "\u001b[0;31m---------------------------------------------------------------------------\u001b[0m\n\u001b[0;31mTypeError\u001b[0m                                 Traceback (most recent call last)",
        "\u001b[0;32m<ipython-input-4-1d6f259c4209>\u001b[0m in \u001b[0;36m<module>\u001b[0;34m()\u001b[0m\n\u001b[0;32m----> 1\u001b[0;31m \u001b[0mgetSummary\u001b[0m\u001b[0;34m(\u001b[0m\u001b[0mdf\u001b[0m\u001b[0;34m)\u001b[0m\u001b[0;34m\u001b[0m\u001b[0m\n\u001b[0m",
        "\u001b[0;31mTypeError\u001b[0m: getSummary() takes exactly 2 arguments (1 given)"
       ]
      }
     ],
     "prompt_number": 4
    },
    {
     "cell_type": "code",
     "collapsed": false,
     "input": [
      "import matplotlib.pyplot as plt\n",
      "\n",
      "def plot_crosstab(metric, title, width = 6,height = 4):\n",
      "    ct = pd.crosstab(metric,df.rejected)\n",
      "    rVals = ct[0].values\n",
      "    aVals = ct[1].values\n",
      "    labs = ct.index.values\n",
      "\n",
      "    ind = np.arange(len(rVals))\n",
      "    fig, ax = plt.subplots()\n",
      "    barWidth = 0.35       # the width of the bars\n",
      "    \n",
      "    #tableau color palette\n",
      "    tableau20 = [(31, 119, 180), (174, 199, 232), (255, 127, 14), (255, 187, 120),  \n",
      "                 (44, 160, 44), (152, 223, 138), (214, 39, 40), (255, 152, 150),  \n",
      "                 (148, 103, 189), (197, 176, 213), (140, 86, 75), (196, 156, 148),  \n",
      "                 (227, 119, 194), (247, 182, 210), (127, 127, 127), (199, 199, 199),  \n",
      "                 (188, 189, 34), (219, 219, 141), (23, 190, 207), (158, 218, 229)] \n",
      "\n",
      "    # Scale the RGB values to the [0, 1] range, which is the format matplotlib accepts.  \n",
      "    for i in range(len(tableau20)):  \n",
      "        r, g, b = tableau20[i]  \n",
      "        tableau20[i] = (r / 255., g / 255., b / 255.) \n",
      "        \n",
      "    # Remove the plot frame lines. They are unnecessary chartjunk.  \n",
      "    ax.spines[\"top\"].set_visible(False)  \n",
      "    ax.spines[\"bottom\"].set_visible(False)  \n",
      "    ax.spines[\"right\"].set_visible(False)  \n",
      "    ax.spines[\"left\"].set_visible(False) \n",
      "\n",
      "    # Ensure that the axis ticks only show up on the bottom and left of the plot.  \n",
      "    # Ticks on the right and top of the plot are generally unnecessary chartjunk.  \n",
      "    ax.get_xaxis().tick_bottom()  \n",
      "    ax.get_yaxis().tick_left()  \n",
      "    \n",
      "    # Remove the tick marks; they are unnecessary with the tick lines we just plotted.  \n",
      "    plt.tick_params(axis=\"both\", which=\"both\", bottom=\"off\", top=\"off\",  \n",
      "                labelbottom=\"on\", left=\"off\", right=\"off\", labelleft=\"on\")\n",
      "    \n",
      "    ax.bar(ind,rVals,barWidth,color=tableau20[15],label=\"rejected\",edgecolor='none')\n",
      "    ax.bar(ind+barWidth,aVals,barWidth,color=tableau20[2],label=\"approved\",edgecolor='none')\n",
      "    ax.set_xticks(ind+barWidth)\n",
      "    ax.set_xticklabels(labs)\n",
      "    plt.title(title)\n",
      "    plt.legend(loc='best')\n",
      "    fig.set_size_inches(width,height)\n",
      "    fig.savefig('../data/plots/'+title+'.png',dpi=100)\n",
      "    \n",
      "plot_crosstab(df.school_metro,'School Metro')"
     ],
     "language": "python",
     "metadata": {},
     "outputs": [
      {
       "metadata": {},
       "output_type": "display_data",
       "png": "[encoded data removed]",
       "text": [
        "<matplotlib.figure.Figure at 0x11286ea10>"
       ]
      }
     ],
     "prompt_number": 66
    },
    {
     "cell_type": "code",
     "collapsed": false,
     "input": [
      "plot_crosstab(df.grade_level,'Grade Level')"
     ],
     "language": "python",
     "metadata": {},
     "outputs": [
      {
       "metadata": {},
       "output_type": "display_data",
       "png": "[encoded data removed]",
       "text": [
        "<matplotlib.figure.Figure at 0x110503b10>"
       ]
      }
     ],
     "prompt_number": 68
    },
    {
     "cell_type": "code",
     "collapsed": false,
     "input": [
      "plot_crosstab(df.short_description_mv,'Dollar Signs $ Present')"
     ],
     "language": "python",
     "metadata": {},
     "outputs": [
      {
       "metadata": {},
       "output_type": "display_data",
       "png": "[encoded data removed]",
       "text": [
        "<matplotlib.figure.Figure at 0x111249d10>"
       ]
      }
     ],
     "prompt_number": 30
    },
    {
     "cell_type": "code",
     "collapsed": false,
     "input": [
      "plot_crosstab(df.need_statement_mv,'Need Statement Missing')"
     ],
     "language": "python",
     "metadata": {},
     "outputs": [
      {
       "metadata": {},
       "output_type": "display_data",
       "png": "[encoded data removed]",
       "text": [
        "<matplotlib.figure.Figure at 0x111515650>"
       ]
      }
     ],
     "prompt_number": 31
    },
    {
     "cell_type": "code",
     "collapsed": false,
     "input": [
      "print \"count(rej,low): \",ct[1].loc['low poverty']\n",
      "print \"count(low): \", ct.loc['low poverty'].sum()\n",
      "print \"count(rej): \", ct[0].sum()\n",
      "print \"total: \", ct[0].sum() + ct[1].sum()\n",
      "\n",
      "def metricProba(metric):\n",
      "    ct = pd.crosstab(df[metric],df.rejected)\n",
      "    for level in ct.index.values:\n",
      "        rej = ct[0].sum()\n",
      "        rej_lev = ct[1].loc[level]\n",
      "        lev = ct.loc[level].sum()\n",
      "        total = ct[0].sum() + ct[1].sum()\n",
      "        likRej = rej_lev*total*1.0 / (lev*rej + 1)\n",
      "        likRatio = rej_lev * (total - lev) * 1.0/ (lev * (rej - rej_lev) + 1)\n",
      "\n",
      "        if likRatio-1>0.05:\n",
      "            print \"Proposals with\",metric,\"=\",level,\"are\", round(likRatio-1,3)*100, \"% more likely to be rejected than others\"\n",
      "        elif likRatio-1<0.05 and likRatio>-0.05:\n",
      "            print \"Proposals with\",metric,\"=\",level,\"are not significantly different in terms of rejection\"\n",
      "        elif likRatio-1<-0.05:\n",
      "            print \"Proposals with\",metric,\"=\",level,\"are\", -round(likRatio-1,3)*100, \"% less likely to be rejected than others\"\n",
      "            \n",
      "    plot_crosstab(df[metric],metric)\n",
      "    return ct\n",
      "    \n",
      "metricProba('poverty_level')\n",
      "    "
     ],
     "language": "python",
     "metadata": {},
     "outputs": [
      {
       "output_type": "stream",
       "stream": "stdout",
       "text": [
        "count(rej,low):  553\n",
        "count(low):  1050\n",
        "count(rej):  18721\n",
        "total:  37442\n",
        "Proposals with poverty_level = high poverty are not significantly different in terms of rejection\n",
        "Proposals with poverty_level = highest poverty are not significantly different in terms of rejection\n",
        "Proposals with poverty_level = low poverty are 5.5 % more likely to be rejected than others\n",
        "Proposals with poverty_level = moderate poverty are not significantly different in terms of rejection\n"
       ]
      },
      {
       "html": [
        "<div style=\"max-height:1000px;max-width:1500px;overflow:auto;\">\n",
        "<table border=\"1\" class=\"dataframe\">\n",
        "  <thead>\n",
        "    <tr style=\"text-align: right;\">\n",
        "      <th>rejected</th>\n",
        "      <th>0</th>\n",
        "      <th>1</th>\n",
        "    </tr>\n",
        "    <tr>\n",
        "      <th>poverty_level</th>\n",
        "      <th></th>\n",
        "      <th></th>\n",
        "    </tr>\n",
        "  </thead>\n",
        "  <tbody>\n",
        "    <tr>\n",
        "      <th>high poverty</th>\n",
        "      <td>  4927</td>\n",
        "      <td>  4852</td>\n",
        "    </tr>\n",
        "    <tr>\n",
        "      <th>highest poverty</th>\n",
        "      <td> 10549</td>\n",
        "      <td> 10735</td>\n",
        "    </tr>\n",
        "    <tr>\n",
        "      <th>low poverty</th>\n",
        "      <td>   497</td>\n",
        "      <td>   553</td>\n",
        "    </tr>\n",
        "    <tr>\n",
        "      <th>moderate poverty</th>\n",
        "      <td>  2748</td>\n",
        "      <td>  2581</td>\n",
        "    </tr>\n",
        "  </tbody>\n",
        "</table>\n",
        "</div>"
       ],
       "metadata": {},
       "output_type": "pyout",
       "prompt_number": 69,
       "text": [
        "rejected              0      1\n",
        "poverty_level                 \n",
        "high poverty       4927   4852\n",
        "highest poverty   10549  10735\n",
        "low poverty         497    553\n",
        "moderate poverty   2748   2581"
       ]
      },
      {
       "metadata": {},
       "output_type": "display_data",
       "png": "[encoded data removed]",
       "text": [
        "<matplotlib.figure.Figure at 0x110780f10>"
       ]
      }
     ],
     "prompt_number": 69
    },
    {
     "cell_type": "code",
     "collapsed": false,
     "input": [
      "metricProba('essay_mv')"
     ],
     "language": "python",
     "metadata": {},
     "outputs": [
      {
       "output_type": "stream",
       "stream": "stdout",
       "text": [
        "Proposals with essay_mv = 0 are not significantly different in terms of rejection\n",
        "Proposals with essay_mv = 1 are 101.5 % more likely to be rejected than others\n"
       ]
      },
      {
       "metadata": {},
       "output_type": "display_data",
       "png": "[encoded data removed]",
       "text": [
        "<matplotlib.figure.Figure at 0x10e110ad0>"
       ]
      },
      {
       "html": [
        "<div style=\"max-height:1000px;max-width:1500px;overflow:auto;\">\n",
        "<table border=\"1\" class=\"dataframe\">\n",
        "  <thead>\n",
        "    <tr style=\"text-align: right;\">\n",
        "      <th>rejected</th>\n",
        "      <th>0</th>\n",
        "      <th>1</th>\n",
        "    </tr>\n",
        "    <tr>\n",
        "      <th>essay_mv</th>\n",
        "      <th></th>\n",
        "      <th></th>\n",
        "    </tr>\n",
        "  </thead>\n",
        "  <tbody>\n",
        "    <tr>\n",
        "      <th>0</th>\n",
        "      <td> 18721</td>\n",
        "      <td> 18453</td>\n",
        "    </tr>\n",
        "    <tr>\n",
        "      <th>1</th>\n",
        "      <td>     0</td>\n",
        "      <td>   268</td>\n",
        "    </tr>\n",
        "  </tbody>\n",
        "</table>\n",
        "</div>"
       ],
       "metadata": {},
       "output_type": "pyout",
       "prompt_number": 11,
       "text": [
        "rejected      0      1\n",
        "essay_mv              \n",
        "0         18721  18453\n",
        "1             0    268"
       ]
      }
     ],
     "prompt_number": 11
    },
    {
     "cell_type": "code",
     "collapsed": false,
     "input": [
      "metricProba('school_metro')"
     ],
     "language": "python",
     "metadata": {},
     "outputs": [
      {
       "output_type": "stream",
       "stream": "stdout",
       "text": [
        "Proposals with school_metro = rural are not significantly different in terms of rejection\n",
        "Proposals with school_metro = suburban are not significantly different in terms of rejection\n",
        "Proposals with school_metro = urban are not significantly different in terms of rejection\n"
       ]
      },
      {
       "html": [
        "<div style=\"max-height:1000px;max-width:1500px;overflow:auto;\">\n",
        "<table border=\"1\" class=\"dataframe\">\n",
        "  <thead>\n",
        "    <tr style=\"text-align: right;\">\n",
        "      <th>rejected</th>\n",
        "      <th>0</th>\n",
        "      <th>1</th>\n",
        "    </tr>\n",
        "    <tr>\n",
        "      <th>school_metro</th>\n",
        "      <th></th>\n",
        "      <th></th>\n",
        "    </tr>\n",
        "  </thead>\n",
        "  <tbody>\n",
        "    <tr>\n",
        "      <th>rural</th>\n",
        "      <td> 2291</td>\n",
        "      <td> 2238</td>\n",
        "    </tr>\n",
        "    <tr>\n",
        "      <th>suburban</th>\n",
        "      <td> 4597</td>\n",
        "      <td> 4391</td>\n",
        "    </tr>\n",
        "    <tr>\n",
        "      <th>urban</th>\n",
        "      <td> 9498</td>\n",
        "      <td> 9611</td>\n",
        "    </tr>\n",
        "  </tbody>\n",
        "</table>\n",
        "</div>"
       ],
       "metadata": {},
       "output_type": "pyout",
       "prompt_number": 49,
       "text": [
        "rejected         0     1\n",
        "school_metro            \n",
        "rural         2291  2238\n",
        "suburban      4597  4391\n",
        "urban         9498  9611"
       ]
      },
      {
       "metadata": {},
       "output_type": "display_data",
       "png": "[encoded data removed]",
       "text": [
        "<matplotlib.figure.Figure at 0x111687590>"
       ]
      }
     ],
     "prompt_number": 49
    },
    {
     "cell_type": "code",
     "collapsed": false,
     "input": [
      "metricProba('dollarbool')"
     ],
     "language": "python",
     "metadata": {},
     "outputs": [
      {
       "metadata": {},
       "output_type": "pyout",
       "prompt_number": 16,
       "text": [
        "Index([u'_projectid', u'_teacher_acctid', u'_schoolid', u'school_ncesid', u'school_latitude', u'school_longitude', u'school_city', u'school_state', u'school_zip', u'school_metro', u'school_district', u'school_county', u'school_charter', u'school_magnet', u'school_year_round', u'school_nlns', u'school_kipp', u'school_charter_ready_promise', u'teacher_prefix', u'teacher_teach_for_america', u'teacher_ny_teaching_fellow', u'primary_focus_subject', u'primary_focus_area', u'secondary_focus_subject', u'secondary_focus_area', u'resource_type', u'poverty_level', u'grade_level', u'vendor_shipping_charges', u'sales_tax', u'payment_processing_charges', u'fulfillment_labor_materials', u'total_price_excluding_optional_support', u'total_price_including_optional_support', u'rejected', u'school_ncesid_mv', u'school_zip_mv', u'school_metro_mv', u'school_district_mv', u'school_county_mv', u'teacher_prefix_mv', u'primary_focus_subject_mv', u'primary_focus_area_mv', u'secondary_focus_subject_mv', u'secondary_focus_area_mv', u'resource_type_mv', u'grade_level_mv', u'vendor_shipping_charges_mv', u'sales_tax_mv', u'payment_processing_charges_mv', u'fulfillment_labor_materials_mv', u'created_date', u'train', u'title', u'short_description', u'need_statement', u'essay', u'short_description_mv', u'need_statement_mv', u'essay_mv', u'essay_len', u'maxcaps', u'totalcaps', u'dollarbool', u'dollarcount', u'email', u'urls'], dtype='object')"
       ]
      }
     ],
     "prompt_number": 16
    },
    {
     "cell_type": "code",
     "collapsed": false,
     "input": [
      "metricProba('grade_level')"
     ],
     "language": "python",
     "metadata": {},
     "outputs": [
      {
       "output_type": "stream",
       "stream": "stdout",
       "text": [
        "Proposals with grade_level = Grades 3-5 are not significantly different in terms of rejection\n",
        "Proposals with grade_level = Grades 6-8 are 8.0 % more likely to be rejected than others\n",
        "Proposals with grade_level = Grades 9-12 are 8.5 % more likely to be rejected than others\n",
        "Proposals with grade_level = Grades PreK-2 are not significantly different in terms of rejection\n"
       ]
      },
      {
       "html": [
        "<div style=\"max-height:1000px;max-width:1500px;overflow:auto;\">\n",
        "<table border=\"1\" class=\"dataframe\">\n",
        "  <thead>\n",
        "    <tr style=\"text-align: right;\">\n",
        "      <th>rejected</th>\n",
        "      <th>0</th>\n",
        "      <th>1</th>\n",
        "    </tr>\n",
        "    <tr>\n",
        "      <th>grade_level</th>\n",
        "      <th></th>\n",
        "      <th></th>\n",
        "    </tr>\n",
        "  </thead>\n",
        "  <tbody>\n",
        "    <tr>\n",
        "      <th>Grades 3-5</th>\n",
        "      <td> 5684</td>\n",
        "      <td> 5699</td>\n",
        "    </tr>\n",
        "    <tr>\n",
        "      <th>Grades 6-8</th>\n",
        "      <td> 3215</td>\n",
        "      <td> 3691</td>\n",
        "    </tr>\n",
        "    <tr>\n",
        "      <th>Grades 9-12</th>\n",
        "      <td> 2831</td>\n",
        "      <td> 3291</td>\n",
        "    </tr>\n",
        "    <tr>\n",
        "      <th>Grades PreK-2</th>\n",
        "      <td> 6990</td>\n",
        "      <td> 5870</td>\n",
        "    </tr>\n",
        "  </tbody>\n",
        "</table>\n",
        "</div>"
       ],
       "metadata": {},
       "output_type": "pyout",
       "prompt_number": 67,
       "text": [
        "rejected          0     1\n",
        "grade_level              \n",
        "Grades 3-5     5684  5699\n",
        "Grades 6-8     3215  3691\n",
        "Grades 9-12    2831  3291\n",
        "Grades PreK-2  6990  5870"
       ]
      },
      {
       "metadata": {},
       "output_type": "display_data",
       "png": "[encoded data removed]",
       "text": [
        "<matplotlib.figure.Figure at 0x111423090>"
       ]
      }
     ],
     "prompt_number": 67
    },
    {
     "cell_type": "code",
     "collapsed": false,
     "input": [
      "metricProba('vendor_shipping_charges_mv')"
     ],
     "language": "python",
     "metadata": {},
     "outputs": [
      {
       "output_type": "stream",
       "stream": "stdout",
       "text": [
        "Proposals with vendor_shipping_charges_mv = 0 are not significantly different in terms of rejection\n"
       ]
      },
      {
       "metadata": {},
       "output_type": "display_data",
       "png": "[encoded data removed]",
       "text": [
        "<matplotlib.figure.Figure at 0x11142f090>"
       ]
      },
      {
       "html": [
        "<div style=\"max-height:1000px;max-width:1500px;overflow:auto;\">\n",
        "<table border=\"1\" class=\"dataframe\">\n",
        "  <thead>\n",
        "    <tr style=\"text-align: right;\">\n",
        "      <th>rejected</th>\n",
        "      <th>0</th>\n",
        "      <th>1</th>\n",
        "    </tr>\n",
        "    <tr>\n",
        "      <th>vendor_shipping_charges_mv</th>\n",
        "      <th></th>\n",
        "      <th></th>\n",
        "    </tr>\n",
        "  </thead>\n",
        "  <tbody>\n",
        "    <tr>\n",
        "      <th>0</th>\n",
        "      <td> 18721</td>\n",
        "      <td> 18721</td>\n",
        "    </tr>\n",
        "  </tbody>\n",
        "</table>\n",
        "</div>"
       ],
       "metadata": {},
       "output_type": "pyout",
       "prompt_number": 25,
       "text": [
        "rejected                        0      1\n",
        "vendor_shipping_charges_mv              \n",
        "0                           18721  18721"
       ]
      }
     ],
     "prompt_number": 25
    },
    {
     "cell_type": "code",
     "collapsed": false,
     "input": [],
     "language": "python",
     "metadata": {},
     "outputs": []
    }
   ],
   "metadata": {}
  }
 ]
}