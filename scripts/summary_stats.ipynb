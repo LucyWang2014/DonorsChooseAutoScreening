{
 "metadata": {
  "name": "",
  "signature": "sha256:70b7cc40d24c433c23f84c340f91f87a8df7d2dc28347ba7047e90cd4ca35fdc"
 },
 "nbformat": 3,
 "nbformat_minor": 0,
 "worksheets": [
  {
   "cells": [
    {
     "cell_type": "code",
     "collapsed": false,
     "input": [
      "import pandas as pd\n",
      "import numpy as np\n",
      "import nltk\n",
      "from util import *\n",
      "\n",
      "full_essay_path = '../data/opendata_essays.csv'\n",
      "data_path = '../data/essays_and_labels.csv'"
     ],
     "language": "python",
     "metadata": {},
     "outputs": [],
     "prompt_number": 12
    },
    {
     "cell_type": "code",
     "collapsed": false,
     "input": [
      "df=pd.read_csv(data_path,sep=',', header=0)"
     ],
     "language": "python",
     "metadata": {},
     "outputs": [],
     "prompt_number": 2
    },
    {
     "cell_type": "heading",
     "level": 1,
     "metadata": {},
     "source": [
      "Clean Data"
     ]
    },
    {
     "cell_type": "code",
     "collapsed": false,
     "input": [
      "def cleanData(df):    \n",
      "    #f -> 0, t -> 1\n",
      "    if df.got_posted.dtype=='O':\n",
      "        df = df.replace(to_replace={'got_posted':{'t':1,'f':0}})\n",
      "    \n",
      "    #blanks -> NA\n",
      "    df[\"draft_project\"] = np.where(df.title.str.contains(\"Draft project\"),1,0)\n",
      "    df.replace(\"\",np.nan, inplace=True)\n",
      "    df.replace(\"1970-01-01\",np.nan, inplace=True)\n",
      "    df.replace(\"Draft project.*\",np.nan, inplace=True, regex=True)\n",
      "\n",
      "    #remove rows where got_posted is null\n",
      "    df = df[pd.notnull(df.got_posted)]\n",
      "\n",
      "    \n",
      "    for col in df.columns:\n",
      "        if len(df[col][pd.isnull(df[col])])>0:\n",
      "            df[col+'_mv'] = np.where(pd.isnull(df[col]),1,0)\n",
      "    return df\n",
      "\n",
      "df = cleanData(df)"
     ],
     "language": "python",
     "metadata": {},
     "outputs": [],
     "prompt_number": 3
    },
    {
     "cell_type": "heading",
     "level": 1,
     "metadata": {},
     "source": [
      "Get Summary Stats"
     ]
    },
    {
     "cell_type": "code",
     "collapsed": false,
     "input": [
      "def getDfSummary(df):\n",
      "    fields = list(df)\n",
      "    uniqueList = []\n",
      "    \n",
      "    for field in fields:\n",
      "        uniques = len(df[field][df[field].notnull()].unique())\n",
      "        uniqueList.append(uniques)\n",
      "        \n",
      "    uniqueSeries = pd.Series(uniqueList, index=fields)\n",
      "    \n",
      "    #uniques\n",
      "    summaryItems = [\n",
      "        ('nulls', df.shape[0] - df.count()),\n",
      "        ('distinct_count', uniqueSeries)\n",
      "    ]\n",
      "    summaryDF = pd.DataFrame.from_items(summaryItems)\n",
      "    return summaryDF"
     ],
     "language": "python",
     "metadata": {},
     "outputs": [],
     "prompt_number": 4
    },
    {
     "cell_type": "code",
     "collapsed": false,
     "input": [
      "getDfSummary(df)"
     ],
     "language": "python",
     "metadata": {},
     "outputs": [
      {
       "html": [
        "<div style=\"max-height:1000px;max-width:1500px;overflow:auto;\">\n",
        "<table border=\"1\" class=\"dataframe\">\n",
        "  <thead>\n",
        "    <tr style=\"text-align: right;\">\n",
        "      <th></th>\n",
        "      <th>nulls</th>\n",
        "      <th>distinct_count</th>\n",
        "    </tr>\n",
        "  </thead>\n",
        "  <tbody>\n",
        "    <tr>\n",
        "      <th>got_posted</th>\n",
        "      <td>    0</td>\n",
        "      <td>      2</td>\n",
        "    </tr>\n",
        "    <tr>\n",
        "      <th>_projectid</th>\n",
        "      <td>    0</td>\n",
        "      <td> 776934</td>\n",
        "    </tr>\n",
        "    <tr>\n",
        "      <th>_teacherid</th>\n",
        "      <td>    0</td>\n",
        "      <td> 291276</td>\n",
        "    </tr>\n",
        "    <tr>\n",
        "      <th>title</th>\n",
        "      <td>  363</td>\n",
        "      <td> 659116</td>\n",
        "    </tr>\n",
        "    <tr>\n",
        "      <th>essay</th>\n",
        "      <td>  487</td>\n",
        "      <td> 747226</td>\n",
        "    </tr>\n",
        "    <tr>\n",
        "      <th>need_statement</th>\n",
        "      <td> 2342</td>\n",
        "      <td> 741561</td>\n",
        "    </tr>\n",
        "    <tr>\n",
        "      <th>created_date</th>\n",
        "      <td> 1442</td>\n",
        "      <td>   4501</td>\n",
        "    </tr>\n",
        "    <tr>\n",
        "      <th>draft_project</th>\n",
        "      <td>    0</td>\n",
        "      <td>      2</td>\n",
        "    </tr>\n",
        "    <tr>\n",
        "      <th>title_mv</th>\n",
        "      <td>    0</td>\n",
        "      <td>      2</td>\n",
        "    </tr>\n",
        "    <tr>\n",
        "      <th>essay_mv</th>\n",
        "      <td>    0</td>\n",
        "      <td>      2</td>\n",
        "    </tr>\n",
        "    <tr>\n",
        "      <th>need_statement_mv</th>\n",
        "      <td>    0</td>\n",
        "      <td>      2</td>\n",
        "    </tr>\n",
        "    <tr>\n",
        "      <th>created_date_mv</th>\n",
        "      <td>    0</td>\n",
        "      <td>      2</td>\n",
        "    </tr>\n",
        "  </tbody>\n",
        "</table>\n",
        "</div>"
       ],
       "metadata": {},
       "output_type": "pyout",
       "prompt_number": 5,
       "text": [
        "                   nulls  distinct_count\n",
        "got_posted             0               2\n",
        "_projectid             0          776934\n",
        "_teacherid             0          291276\n",
        "title                363          659116\n",
        "essay                487          747226\n",
        "need_statement      2342          741561\n",
        "created_date        1442            4501\n",
        "draft_project          0               2\n",
        "title_mv               0               2\n",
        "essay_mv               0               2\n",
        "need_statement_mv      0               2\n",
        "created_date_mv        0               2"
       ]
      }
     ],
     "prompt_number": 5
    },
    {
     "cell_type": "heading",
     "level": 1,
     "metadata": {},
     "source": [
      "Downsample the Negatives"
     ]
    },
    {
     "cell_type": "code",
     "collapsed": false,
     "input": [
      "def downsampleNegatives(df):\n",
      "    t=df[df.got_posted==1]\n",
      "    f=df[df.got_posted==0]\n",
      "    \n",
      "    #get it down to two approvals for every rejection\n",
      "    rand = np.random.randint(t.shape[0], size=2*f.shape[0])\n",
      "    DownSample = t.iloc[rand]\n",
      "    \n",
      "    return f.append(DownSample)\n",
      "\n",
      "bdf = downsampleNegatives(df)"
     ],
     "language": "python",
     "metadata": {},
     "outputs": [],
     "prompt_number": 7
    },
    {
     "cell_type": "code",
     "collapsed": false,
     "input": [
      "getDfSummary(bdf)"
     ],
     "language": "python",
     "metadata": {},
     "outputs": [
      {
       "html": [
        "<div style=\"max-height:1000px;max-width:1500px;overflow:auto;\">\n",
        "<table border=\"1\" class=\"dataframe\">\n",
        "  <thead>\n",
        "    <tr style=\"text-align: right;\">\n",
        "      <th></th>\n",
        "      <th>nulls</th>\n",
        "      <th>distinct_count</th>\n",
        "    </tr>\n",
        "  </thead>\n",
        "  <tbody>\n",
        "    <tr>\n",
        "      <th>got_posted</th>\n",
        "      <td>   0</td>\n",
        "      <td>     2</td>\n",
        "    </tr>\n",
        "    <tr>\n",
        "      <th>_projectid</th>\n",
        "      <td>   0</td>\n",
        "      <td> 64892</td>\n",
        "    </tr>\n",
        "    <tr>\n",
        "      <th>_teacherid</th>\n",
        "      <td>   0</td>\n",
        "      <td> 52630</td>\n",
        "    </tr>\n",
        "    <tr>\n",
        "      <th>title</th>\n",
        "      <td> 256</td>\n",
        "      <td> 61005</td>\n",
        "    </tr>\n",
        "    <tr>\n",
        "      <th>essay</th>\n",
        "      <td> 429</td>\n",
        "      <td> 64073</td>\n",
        "    </tr>\n",
        "    <tr>\n",
        "      <th>need_statement</th>\n",
        "      <td> 824</td>\n",
        "      <td> 62422</td>\n",
        "    </tr>\n",
        "    <tr>\n",
        "      <th>created_date</th>\n",
        "      <td> 335</td>\n",
        "      <td>  3747</td>\n",
        "    </tr>\n",
        "    <tr>\n",
        "      <th>draft_project</th>\n",
        "      <td>   0</td>\n",
        "      <td>     2</td>\n",
        "    </tr>\n",
        "    <tr>\n",
        "      <th>title_mv</th>\n",
        "      <td>   0</td>\n",
        "      <td>     2</td>\n",
        "    </tr>\n",
        "    <tr>\n",
        "      <th>essay_mv</th>\n",
        "      <td>   0</td>\n",
        "      <td>     2</td>\n",
        "    </tr>\n",
        "    <tr>\n",
        "      <th>need_statement_mv</th>\n",
        "      <td>   0</td>\n",
        "      <td>     2</td>\n",
        "    </tr>\n",
        "    <tr>\n",
        "      <th>created_date_mv</th>\n",
        "      <td>   0</td>\n",
        "      <td>     2</td>\n",
        "    </tr>\n",
        "  </tbody>\n",
        "</table>\n",
        "</div>"
       ],
       "metadata": {},
       "output_type": "pyout",
       "prompt_number": 8,
       "text": [
        "                   nulls  distinct_count\n",
        "got_posted             0               2\n",
        "_projectid             0           64892\n",
        "_teacherid             0           52630\n",
        "title                256           61005\n",
        "essay                429           64073\n",
        "need_statement       824           62422\n",
        "created_date         335            3747\n",
        "draft_project          0               2\n",
        "title_mv               0               2\n",
        "essay_mv               0               2\n",
        "need_statement_mv      0               2\n",
        "created_date_mv        0               2"
       ]
      }
     ],
     "prompt_number": 8
    },
    {
     "cell_type": "code",
     "collapsed": false,
     "input": [
      "bdf.to_csv('../data/essay_data_clean.csv',index=False)"
     ],
     "language": "python",
     "metadata": {},
     "outputs": [],
     "prompt_number": 9
    },
    {
     "cell_type": "heading",
     "level": 1,
     "metadata": {},
     "source": [
      "Generate Features"
     ]
    },
    {
     "cell_type": "code",
     "collapsed": false,
     "input": [
      "essays_labels = bdf\n",
      "headers = essays_labels.columns\n",
      "\n",
      "data_app = essays_labels[essays_labels.got_posted==1]\n",
      "data_rej = essays_labels[essays_labels.got_posted==0]"
     ],
     "language": "python",
     "metadata": {},
     "outputs": [],
     "prompt_number": 28
    },
    {
     "cell_type": "code",
     "collapsed": false,
     "input": [
      "mytest_size = 0.3\n",
      "features_labels = []"
     ],
     "language": "python",
     "metadata": {},
     "outputs": [],
     "prompt_number": 17
    },
    {
     "cell_type": "code",
     "collapsed": false,
     "input": [
      "# TRAIN/TEST split\n",
      "data_app_train, data_app_test = train_test_split(data_app,test_size=mytest_size)\n",
      "data_rej_train, data_rej_test = train_test_split(data_rej,test_size=mytest_size)\n",
      "\n",
      "data_app_train = pd.DataFrame(data_app_train,columns=headers)\n",
      "data_app_test = pd.DataFrame(data_app_test,columns=headers)\n",
      "data_rej_train = pd.DataFrame(data_rej_train,columns=headers)\n",
      "data_rej_test = pd.DataFrame(data_rej_test,columns=headers)"
     ],
     "language": "python",
     "metadata": {},
     "outputs": [],
     "prompt_number": 18
    },
    {
     "cell_type": "code",
     "collapsed": false,
     "input": [
      "def RunItTimeIt(func, args=[], returnarg=False, msg=\"\"):\n",
      "    # This just runs the function func with args and prints a message\n",
      "    # about how long it took.  You can attach a little message that\n",
      "    # goes with it.  For example, \"Function X completed in [5 seconds]\".\n",
      "    # If no return output required, set returnarg to false, otherwise\n",
      "    # it will return the output of func.\n",
      "    #\n",
      "    # NOTE: args must be a list\n",
      "    start = time.time()\n",
      "    if returnarg == True:\n",
      "        if len(args)==0:\n",
      "            outargs = func()\n",
      "        else:\n",
      "            outargs = func(*args)\n",
      "    else:\n",
      "        if len(args)==0:\n",
      "            func()\n",
      "        else:\n",
      "            func(*args)\n",
      "    end = time.time()\n",
      "    print msg, round(end-start,2),\"seconds\"\n",
      "    if returnarg == True:\n",
      "        return outargs"
     ],
     "language": "python",
     "metadata": {},
     "outputs": [],
     "prompt_number": 20
    },
    {
     "cell_type": "code",
     "collapsed": false,
     "input": [
      "def generate_features(df):\n",
      "    # note, this will assign the same label input to all features\n",
      "    \n",
      "    features_labels=[]\n",
      "    m,n = df.shape\n",
      "    for RowTuple in df.iterrows():\n",
      "        try:\n",
      "            row = RowTuple[1]\n",
      "            title = str(row[\"title\"])\n",
      "            essay = str(row[\"essay\"])\n",
      "            needs = str(row[\"need_statement\"])\n",
      "            label = row[\"got_posted\"]\n",
      "            words = title + \" \" + essay + \" \" + needs\n",
      "            words = RemoveSpecialUnicode(words)\n",
      "            wordset = get_wordset(words)\n",
      "            trimmed = RemoveStopsSymbols(wordset)\n",
      "            stemmed = stemming(trimmed)\n",
      "            features = word_indicator(stemmed)\n",
      "            features_labels.append((features,label))\n",
      "        except:\n",
      "            print \">>>>>>>>>>ERROR\"\n",
      "            print \"ROW\",RowTuple[0]\n",
      "            print row\n",
      "            break\n",
      "    return features_labels"
     ],
     "language": "python",
     "metadata": {},
     "outputs": [],
     "prompt_number": 54
    },
    {
     "cell_type": "code",
     "collapsed": false,
     "input": [
      "############################# Generate features. \n",
      "#   See RunItTimeIt description above\n",
      "train_app = RunItTimeIt(generate_features,[data_app_train],True,\n",
      "       \"finished generating features: training approved,\")\n",
      "#train_app = generate_features(data_app_train)\n",
      "\n",
      "test_app = RunItTimeIt(generate_features,[data_app_test],True,\n",
      "       \"finished generating features: test approved,\")\n",
      "train_rej = RunItTimeIt(generate_features,[data_rej_train],True,\n",
      "       \"finished generating features: training rejected,\")\n",
      "test_rej = RunItTimeIt(generate_features,[data_rej_test],True,\n",
      "       \"finished generating features: test rejected,\")"
     ],
     "language": "python",
     "metadata": {},
     "outputs": [
      {
       "output_type": "stream",
       "stream": "stdout",
       "text": [
        "finished generating features: training approved, 66.36 seconds\n",
        "finished generating features: test approved,"
       ]
      },
      {
       "output_type": "stream",
       "stream": "stdout",
       "text": [
        " 28.74 seconds\n",
        "finished generating features: training rejected,"
       ]
      },
      {
       "output_type": "stream",
       "stream": "stdout",
       "text": [
        " 64.27 seconds\n",
        "finished generating features: test rejected,"
       ]
      },
      {
       "output_type": "stream",
       "stream": "stdout",
       "text": [
        " 27.53 seconds\n"
       ]
      }
     ],
     "prompt_number": 55
    },
    {
     "cell_type": "code",
     "collapsed": false,
     "input": [
      "train_app"
     ],
     "language": "python",
     "metadata": {},
     "outputs": [
      {
       "metadata": {},
       "output_type": "pyout",
       "prompt_number": 45,
       "text": [
        "[({'accommod': True,\n",
        "   'acquir': True,\n",
        "   'amount': True,\n",
        "   'around': True,\n",
        "   'class': True,\n",
        "   'creation': True,\n",
        "   'donotremoveessaydivid': True,\n",
        "   'doubl': True,\n",
        "   'enough': True,\n",
        "   'famili': True,\n",
        "   'go': True,\n",
        "   'help': True,\n",
        "   'instrument': True,\n",
        "   'keyboard': True,\n",
        "   'larg': True,\n",
        "   'level': True,\n",
        "   'make': True,\n",
        "   'masterpiec': True,\n",
        "   'mostli': True,\n",
        "   'music': True,\n",
        "   'need': True,\n",
        "   'poverti': True,\n",
        "   'school': True,\n",
        "   'sometim': True,\n",
        "   'stand': True,\n",
        "   'student': True,\n",
        "   'tripl': True,\n",
        "   'us': True,\n",
        "   'year': True},\n",
        "  1.0)]"
       ]
      }
     ],
     "prompt_number": 45
    }
   ],
   "metadata": {}
  }
 ]
}