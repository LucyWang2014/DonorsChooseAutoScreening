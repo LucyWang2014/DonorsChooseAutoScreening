{
 "metadata": {
  "name": "",
  "signature": "sha256:8c0e299c011be8c9794d31eb9e98d70b2889b5c0dd62be9184ee8dfdec62fb3a"
 },
 "nbformat": 3,
 "nbformat_minor": 0,
 "worksheets": [
  {
   "cells": [
    {
     "cell_type": "code",
     "collapsed": false,
     "input": [
      "import pandas as pd\n",
      "\n",
      "homedir = '/Users/205341/Dropbox/NYU/Intro DS/DonorsChoose/'\n",
      "my_inpath = homedir + 'essays_and_labels_10.csv'\n",
      "my_outpath = homedir + 'structured_data.csv'"
     ],
     "language": "python",
     "metadata": {},
     "outputs": [],
     "prompt_number": 32
    },
    {
     "cell_type": "markdown",
     "metadata": {},
     "source": [
      "#Header 1\n",
      "##Header 2\n",
      "\n",
      "1.list\n",
      "\n",
      "1.adsfasd\n",
      "\n",
      "1.asdfasd"
     ]
    },
    {
     "cell_type": "code",
     "collapsed": false,
     "input": [
      "def prep_data(inpath,outpath):\n",
      "    import csv\n",
      "\n",
      "    #read lines one at a time\n",
      "    with open(inpath, 'rb') as inf:\n",
      "        csvreader = csv.reader(inf,delimiter=',', quotechar='\"')\n",
      "        \n",
      "        #Read and print header\n",
      "        header = inf.readline().split(',')\n",
      "\n",
      "        #Read and process other lines\n",
      "        for row in csvreader:\n",
      "            prep_line(header,row)\n",
      "            \n",
      "#process one line.  Produces a dict with key:header, value: data   \n",
      "def prep_line(header,row):\n",
      "    line_dict = dict(zip(header,row))\n",
      "    print line_dict['title']\n",
      "    '''\n",
      "    -----------------------------------\n",
      "    Insert text processing modules here, eg:\n",
      "    punct_free = remove_punctuation(line_dict['essay'])\n",
      "    stopwords_free = remove_stopwords(punct_free)\n",
      "    stemmed = stem(stopwords_free)\n",
      "    -----------------------------------\n",
      "    '''\n",
      "    \n",
      "#write processed output one line at a time.  \n",
      "def write_line(outpath,outline):\n",
      "    with open(outpath, 'a') as file:\n",
      "        file.write(outline)\n",
      "\n",
      "\n",
      "prep_data(my_inpath, my_outpath)\n",
      "    "
     ],
     "language": "python",
     "metadata": {},
     "outputs": [
      {
       "output_type": "stream",
       "stream": "stdout",
       "text": [
        "SAT Review Books for my 11th grade English class\n",
        "\"Baby Think It Over\" doll for pregnancy/parenting unit\n",
        "Trip to see RENT on Broadway, for AIDS Walk participants\n",
        "A classroom College Resource Center for my Advisory\n",
        "Graduation Gifts/ Various Novels by African-American and Latino Writers.\n",
        "['got_posted', '_projectid', '_teacherid', 'title', 'essay', 'need_statement', 'created_date\\n']\n"
       ]
      }
     ],
     "prompt_number": 43
    },
    {
     "cell_type": "code",
     "collapsed": false,
     "input": [
      "help(readlines)"
     ],
     "language": "python",
     "metadata": {},
     "outputs": [
      {
       "output_type": "stream",
       "stream": "stdout",
       "text": [
        "Help on function readlines in module __main__:\n",
        "\n",
        "readlines(inpath)\n",
        "\n"
       ]
      }
     ],
     "prompt_number": 23
    }
   ],
   "metadata": {}
  }
 ]
}